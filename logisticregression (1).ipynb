{
  "nbformat": 4,
  "nbformat_minor": 0,
  "metadata": {
    "colab": {
      "name": "logisticregression.ipynb",
      "provenance": [],
      "collapsed_sections": []
    },
    "kernelspec": {
      "name": "python3",
      "display_name": "Python 3"
    },
    "language_info": {
      "name": "python"
    }
  },
  "cells": [
    {
      "cell_type": "code",
      "metadata": {
        "id": "KlUOucrdRmUU"
      },
      "source": [
        "# team Amir Stash\n",
        "kaggle : 0.84231"
      ],
      "execution_count": null,
      "outputs": []
    },
    {
      "cell_type": "code",
      "metadata": {
        "id": "8VbifUfeTKMk"
      },
      "source": [
        "# Для использования CatBoost следует сначала его установить\n",
        "!pip install catboost"
      ],
      "execution_count": null,
      "outputs": []
    },
    {
      "cell_type": "code",
      "metadata": {
        "id": "BEnBouu0uAdk"
      },
      "source": [
        "import numpy as np\n",
        "import pandas as pd\n",
        "import seaborn as sns\n",
        "from matplotlib import pyplot as plt\n",
        "from sklearn.preprocessing import LabelEncoder, StandardScaler , OneHotEncoder\n",
        "from sklearn.linear_model import LogisticRegression, LogisticRegressionCV\n",
        "from sklearn.model_selection import train_test_split, GridSearchCV\n",
        "from sklearn.metrics import roc_auc_score\n",
        "from catboost import CatBoostClassifier , CatBoostRegressor"
      ],
      "execution_count": null,
      "outputs": []
    },
    {
      "cell_type": "code",
      "metadata": {
        "id": "vXyRFLSSSCM5"
      },
      "source": [
        "data_train = pd.read_csv('/content/train.csv')\n",
        "data_test = pd.read_csv('/content/test.csv')"
      ],
      "execution_count": null,
      "outputs": []
    },
    {
      "cell_type": "code",
      "metadata": {
        "id": "pmw8wzGtSXRh"
      },
      "source": [
        "num_cols = [\n",
        "    'ClientPeriod',\n",
        "    'MonthlySpending',\n",
        "    'TotalSpent'\n",
        "]\n",
        "num_cols_churn = [\n",
        "    'ClientPeriod',\n",
        "    'MonthlySpending',\n",
        "    'TotalSpent',\n",
        "    'Churn'       \n",
        "]\n",
        "categorial = [\n",
        "    'Sex',\n",
        "    'IsSeniorCitizen',\n",
        "    'HasPartner',\n",
        "    'HasChild',\n",
        "    'HasPhoneService',\n",
        "    'HasMultiplePhoneNumbers',\n",
        "    'HasInternetService',\n",
        "    'HasOnlineSecurityService',\n",
        "    'HasOnlineBackup',\n",
        "    'HasDeviceProtection',\n",
        "    'HasTechSupportAccess',\n",
        "    'HasOnlineTV',\n",
        "    'HasMovieSubscription',\n",
        "    'HasContractPhone',\n",
        "    'IsBillingPaperless',\n",
        "    'PaymentMethod'\n",
        "]"
      ],
      "execution_count": null,
      "outputs": []
    },
    {
      "cell_type": "code",
      "metadata": {
        "colab": {
          "base_uri": "https://localhost:8080/",
          "height": 292
        },
        "id": "lFUW100eVPzJ",
        "outputId": "4f334066-cc4b-434e-815d-7f89ed8b19f1"
      },
      "source": [
        "data_train.head()"
      ],
      "execution_count": null,
      "outputs": [
        {
          "output_type": "execute_result",
          "data": {
            "text/html": [
              "<div>\n",
              "<style scoped>\n",
              "    .dataframe tbody tr th:only-of-type {\n",
              "        vertical-align: middle;\n",
              "    }\n",
              "\n",
              "    .dataframe tbody tr th {\n",
              "        vertical-align: top;\n",
              "    }\n",
              "\n",
              "    .dataframe thead th {\n",
              "        text-align: right;\n",
              "    }\n",
              "</style>\n",
              "<table border=\"1\" class=\"dataframe\">\n",
              "  <thead>\n",
              "    <tr style=\"text-align: right;\">\n",
              "      <th></th>\n",
              "      <th>ClientPeriod</th>\n",
              "      <th>MonthlySpending</th>\n",
              "      <th>TotalSpent</th>\n",
              "      <th>Sex</th>\n",
              "      <th>IsSeniorCitizen</th>\n",
              "      <th>HasPartner</th>\n",
              "      <th>HasChild</th>\n",
              "      <th>HasPhoneService</th>\n",
              "      <th>HasMultiplePhoneNumbers</th>\n",
              "      <th>HasInternetService</th>\n",
              "      <th>HasOnlineSecurityService</th>\n",
              "      <th>HasOnlineBackup</th>\n",
              "      <th>HasDeviceProtection</th>\n",
              "      <th>HasTechSupportAccess</th>\n",
              "      <th>HasOnlineTV</th>\n",
              "      <th>HasMovieSubscription</th>\n",
              "      <th>HasContractPhone</th>\n",
              "      <th>IsBillingPaperless</th>\n",
              "      <th>PaymentMethod</th>\n",
              "      <th>Churn</th>\n",
              "    </tr>\n",
              "  </thead>\n",
              "  <tbody>\n",
              "    <tr>\n",
              "      <th>0</th>\n",
              "      <td>55</td>\n",
              "      <td>19.50</td>\n",
              "      <td>1026.35</td>\n",
              "      <td>Male</td>\n",
              "      <td>0</td>\n",
              "      <td>Yes</td>\n",
              "      <td>Yes</td>\n",
              "      <td>Yes</td>\n",
              "      <td>No</td>\n",
              "      <td>No</td>\n",
              "      <td>No internet service</td>\n",
              "      <td>No internet service</td>\n",
              "      <td>No internet service</td>\n",
              "      <td>No internet service</td>\n",
              "      <td>No internet service</td>\n",
              "      <td>No internet service</td>\n",
              "      <td>One year</td>\n",
              "      <td>No</td>\n",
              "      <td>Mailed check</td>\n",
              "      <td>0</td>\n",
              "    </tr>\n",
              "    <tr>\n",
              "      <th>1</th>\n",
              "      <td>72</td>\n",
              "      <td>25.85</td>\n",
              "      <td>1872.2</td>\n",
              "      <td>Male</td>\n",
              "      <td>0</td>\n",
              "      <td>Yes</td>\n",
              "      <td>No</td>\n",
              "      <td>Yes</td>\n",
              "      <td>Yes</td>\n",
              "      <td>No</td>\n",
              "      <td>No internet service</td>\n",
              "      <td>No internet service</td>\n",
              "      <td>No internet service</td>\n",
              "      <td>No internet service</td>\n",
              "      <td>No internet service</td>\n",
              "      <td>No internet service</td>\n",
              "      <td>Two year</td>\n",
              "      <td>No</td>\n",
              "      <td>Credit card (automatic)</td>\n",
              "      <td>0</td>\n",
              "    </tr>\n",
              "    <tr>\n",
              "      <th>2</th>\n",
              "      <td>1</td>\n",
              "      <td>75.90</td>\n",
              "      <td>75.9</td>\n",
              "      <td>Male</td>\n",
              "      <td>0</td>\n",
              "      <td>No</td>\n",
              "      <td>No</td>\n",
              "      <td>Yes</td>\n",
              "      <td>No</td>\n",
              "      <td>Fiber optic</td>\n",
              "      <td>No</td>\n",
              "      <td>No</td>\n",
              "      <td>No</td>\n",
              "      <td>Yes</td>\n",
              "      <td>No</td>\n",
              "      <td>No</td>\n",
              "      <td>Month-to-month</td>\n",
              "      <td>Yes</td>\n",
              "      <td>Electronic check</td>\n",
              "      <td>1</td>\n",
              "    </tr>\n",
              "    <tr>\n",
              "      <th>3</th>\n",
              "      <td>32</td>\n",
              "      <td>79.30</td>\n",
              "      <td>2570</td>\n",
              "      <td>Female</td>\n",
              "      <td>1</td>\n",
              "      <td>Yes</td>\n",
              "      <td>No</td>\n",
              "      <td>Yes</td>\n",
              "      <td>Yes</td>\n",
              "      <td>Fiber optic</td>\n",
              "      <td>No</td>\n",
              "      <td>No</td>\n",
              "      <td>Yes</td>\n",
              "      <td>No</td>\n",
              "      <td>No</td>\n",
              "      <td>No</td>\n",
              "      <td>Month-to-month</td>\n",
              "      <td>No</td>\n",
              "      <td>Mailed check</td>\n",
              "      <td>0</td>\n",
              "    </tr>\n",
              "    <tr>\n",
              "      <th>4</th>\n",
              "      <td>60</td>\n",
              "      <td>115.25</td>\n",
              "      <td>6758.45</td>\n",
              "      <td>Female</td>\n",
              "      <td>0</td>\n",
              "      <td>Yes</td>\n",
              "      <td>Yes</td>\n",
              "      <td>Yes</td>\n",
              "      <td>Yes</td>\n",
              "      <td>Fiber optic</td>\n",
              "      <td>Yes</td>\n",
              "      <td>Yes</td>\n",
              "      <td>Yes</td>\n",
              "      <td>Yes</td>\n",
              "      <td>Yes</td>\n",
              "      <td>Yes</td>\n",
              "      <td>Two year</td>\n",
              "      <td>No</td>\n",
              "      <td>Credit card (automatic)</td>\n",
              "      <td>0</td>\n",
              "    </tr>\n",
              "  </tbody>\n",
              "</table>\n",
              "</div>"
            ],
            "text/plain": [
              "   ClientPeriod  MonthlySpending  ...            PaymentMethod Churn\n",
              "0            55            19.50  ...             Mailed check     0\n",
              "1            72            25.85  ...  Credit card (automatic)     0\n",
              "2             1            75.90  ...         Electronic check     1\n",
              "3            32            79.30  ...             Mailed check     0\n",
              "4            60           115.25  ...  Credit card (automatic)     0\n",
              "\n",
              "[5 rows x 20 columns]"
            ]
          },
          "metadata": {
            "tags": []
          },
          "execution_count": 6
        }
      ]
    },
    {
      "cell_type": "code",
      "metadata": {
        "id": "NuaBO7plA5Tl"
      },
      "source": [
        "# Избавление от пробелов в TotalSpent\n",
        "for j in [data_train, data_test]:\n",
        "  j['TotalSpent'] = j['TotalSpent'].replace(' ' , 0)\n",
        "  j['TotalSpent'] = j['TotalSpent'].astype(float)"
      ],
      "execution_count": null,
      "outputs": []
    },
    {
      "cell_type": "code",
      "metadata": {
        "id": "h1hq_6TXBuP0"
      },
      "source": [
        "# Преобразование категориальных признаков\n",
        "le = LabelEncoder()\n",
        "for col in categorial:\n",
        "    data_train[col] = le.fit_transform(data_train[col])\n",
        "    data_test[col]  = le.transform(data_test[col])\n",
        "    data_train[col] = data_train[col].astype('category')\n",
        "    data_test[col]  = data_test[col].astype('category')\n"
      ],
      "execution_count": null,
      "outputs": []
    },
    {
      "cell_type": "code",
      "metadata": {
        "colab": {
          "base_uri": "https://localhost:8080/",
          "height": 444
        },
        "id": "FUUK-LOMGG_W",
        "outputId": "9349288a-27bc-4d04-8f58-5fa092139291"
      },
      "source": [
        "data_train[num_cols_churn].hist(num_cols,figsize = (12,7));"
      ],
      "execution_count": null,
      "outputs": [
        {
          "output_type": "display_data",
          "data": {
            "image/png": "[encoded data removed]",
            "text/plain": [
              "<Figure size 864x504 with 4 Axes>"
            ]
          },
          "metadata": {
            "tags": [],
            "needs_background": "light"
          }
        }
      ]
    },
    {
      "cell_type": "code",
      "metadata": {
        "id": "dit05boOmP8c"
      },
      "source": [
        "# Запись результатов в файл типа csv\n",
        "def write_file(predicted_labels, out_file, target='Churn', index_label=\"Id\"):\n",
        "    predicted_data = pd.DataFrame(predicted_labels,\n",
        "                                index = np.arange(len(predicted_labels)),\n",
        "                                columns=[target])\n",
        "    predicted_data.to_csv(out_file, index_label=index_label)"
      ],
      "execution_count": null,
      "outputs": []
    },
    {
      "cell_type": "code",
      "metadata": {
        "id": "inQd6wSiS15w"
      },
      "source": [
        "# Создание фиктивных переменных\n",
        "def ohe(data, numeric, categorical):\n",
        "    dummy_features = pd.get_dummies(data[categorical])\n",
        "    return pd.concat([data[numeric], dummy_features], axis=1)"
      ],
      "execution_count": null,
      "outputs": []
    },
    {
      "cell_type": "code",
      "metadata": {
        "id": "6ogrstSaTEK_"
      },
      "source": [
        "# Модель(LogisticRegression),\n",
        "X = data_train.drop(columns=['Churn'])\n",
        "y = data_train['Churn']"
      ],
      "execution_count": null,
      "outputs": []
    },
    {
      "cell_type": "code",
      "metadata": {
        "id": "XOgnyb-dltz6"
      },
      "source": [
        "X = ohe(X, num_cols, categorial)\n",
        "test_ohe = ohe(data_test, num_cols, categorial)"
      ],
      "execution_count": null,
      "outputs": []
    },
    {
      "cell_type": "code",
      "metadata": {
        "id": "3HMiUDUDTdTY"
      },
      "source": [
        "X_train, X_test, y_train, y_test = train_test_split(X, y, test_size=0.3, random_state=42)"
      ],
      "execution_count": null,
      "outputs": []
    },
    {
      "cell_type": "code",
      "metadata": {
        "id": "FAGPxs9YTnqh"
      },
      "source": [
        "model = LogisticRegression()\n",
        "model.fit(X_train,y_train)\n",
        "model_predict = model.predict(X_test)"
      ],
      "execution_count": null,
      "outputs": []
    },
    {
      "cell_type": "code",
      "metadata": {
        "id": "DCPZTAdVXH04",
        "colab": {
          "base_uri": "https://localhost:8080/"
        },
        "outputId": "cb0e28e5-5f32-412c-b1d0-3faa76c9aacd"
      },
      "source": [
        "roc_auc_score(y_test , model_predict)"
      ],
      "execution_count": null,
      "outputs": [
        {
          "output_type": "execute_result",
          "data": {
            "text/plain": [
              "0.7033509152307413"
            ]
          },
          "metadata": {
            "tags": []
          },
          "execution_count": 16
        }
      ]
    },
    {
      "cell_type": "code",
      "metadata": {
        "id": "7omrp3TyXz85"
      },
      "source": [
        " Подбор параметров через GridSearchCV\n",
        "params = { 'C' : [0.001, 0.01 , 0.1 , 1 , 10]\n",
        "          }\n",
        "cv_model = GridSearchCV(model , param_grid= params, cv = 10 , n_jobs= -1);\n",
        "cv_model.fit(X_train,y_train);"
      ],
      "execution_count": null,
      "outputs": []
    },
    {
      "cell_type": "code",
      "metadata": {
        "id": "CYH8YXyQY4N2"
      },
      "source": [
        "model_predict = cv_model.predict(X_test)"
      ],
      "execution_count": null,
      "outputs": []
    },
    {
      "cell_type": "code",
      "metadata": {
        "colab": {
          "base_uri": "https://localhost:8080/"
        },
        "id": "Y81FmE1xYrBm",
        "outputId": "2e62a60e-6951-4d03-998b-442734be6546"
      },
      "source": [
        "# Результаты \n",
        "roc_auc_score(y_test,model_predict)"
      ],
      "execution_count": null,
      "outputs": [
        {
          "output_type": "execute_result",
          "data": {
            "text/plain": [
              "0.7004463097034322"
            ]
          },
          "metadata": {
            "tags": []
          },
          "execution_count": 19
        }
      ]
    },
    {
      "cell_type": "code",
      "metadata": {
        "colab": {
          "base_uri": "https://localhost:8080/"
        },
        "id": "pm5klEjChQoT",
        "outputId": "0f88f034-064a-477e-fc51-54df6d6447d6"
      },
      "source": [
        "cv_model.best_score_"
      ],
      "execution_count": null,
      "outputs": [
        {
          "output_type": "execute_result",
          "data": {
            "text/plain": [
              "0.8090302497619571"
            ]
          },
          "metadata": {
            "tags": []
          },
          "execution_count": 20
        }
      ]
    },
    {
      "cell_type": "code",
      "metadata": {
        "colab": {
          "base_uri": "https://localhost:8080/"
        },
        "id": "adTpSi52ljIq",
        "outputId": "b6902c41-4788-435b-9f8f-bd0fe4b2d56b"
      },
      "source": [
        "cv_model.best_estimator_.fit(X,y)\n",
        "prediction = cv_model.best_estimator_.predict_proba(test_ohe)\n",
        "prediction"
      ],
      "execution_count": null,
      "outputs": [
        {
          "output_type": "execute_result",
          "data": {
            "text/plain": [
              "array([[0.94293041, 0.05706959],\n",
              "       [0.33149669, 0.66850331],\n",
              "       [0.30582657, 0.69417343],\n",
              "       ...,\n",
              "       [0.24756288, 0.75243712],\n",
              "       [0.39982688, 0.60017312],\n",
              "       [0.9840374 , 0.0159626 ]])"
            ]
          },
          "metadata": {
            "tags": []
          },
          "execution_count": 21
        }
      ]
    },
    {
      "cell_type": "code",
      "metadata": {
        "id": "JTKFrvjZmXdq"
      },
      "source": [
        "write_file(prediction, 'prediction_LogisticRegressionCV.csv')"
      ],
      "execution_count": null,
      "outputs": []
    },
    {
      "cell_type": "code",
      "metadata": {
        "id": "HQp1Qm4mUbhW"
      },
      "source": [
        "# Использование библиотеки CatBoost"
      ],
      "execution_count": null,
      "outputs": []
    },
    {
      "cell_type": "code",
      "metadata": {
        "id": "2dQpYcZdZTMi"
      },
      "source": [
        "params_cat = { 'iterations':[100]\n",
        "          ,'l2_leaf_reg':[1,3,5,10]\n",
        "          ,'learning_rate':[0.001,0.01]\n",
        "          ,'depth':[3,5,7,9,10]\n",
        "          ,'loss_function':['CrossEntropy']\n",
        "         }"
      ],
      "execution_count": null,
      "outputs": []
    },
    {
      "cell_type": "code",
      "metadata": {
        "id": "HeH-P59Ru9gL"
      },
      "source": [
        "model_cat = CatBoostClassifier()\n",
        "model_cat_cv = GridSearchCV(estimator= model_cat , param_grid= params_cat , cv = 10 , n_jobs= -1)\n",
        "model_cat_cv.fit(X_train,y_train)"
      ],
      "execution_count": null,
      "outputs": []
    },
    {
      "cell_type": "code",
      "metadata": {
        "colab": {
          "base_uri": "https://localhost:8080/"
        },
        "id": "O8gmUMRxaBMI",
        "outputId": "8af38844-3f8f-44f0-8fc3-e21aad551c37"
      },
      "source": [
        "model_cat_cv.best_score_"
      ],
      "execution_count": null,
      "outputs": [
        {
          "output_type": "execute_result",
          "data": {
            "text/plain": [
              "0.8095700578627408"
            ]
          },
          "metadata": {
            "tags": []
          },
          "execution_count": 29
        }
      ]
    },
    {
      "cell_type": "code",
      "metadata": {
        "id": "AKAW3eIIh4Ft"
      },
      "source": [
        "# Обучаем лучшую модель\n",
        "model_cat_cv.best_estimator_.fit(X,y)\n",
        "prediction = model_cat_cv.best_estimator_.predict_proba(test_ohe)[:, 1]\n",
        "prediction"
      ],
      "execution_count": null,
      "outputs": []
    },
    {
      "cell_type": "code",
      "metadata": {
        "id": "rKBInkxYh-Uv"
      },
      "source": [
        "# Записываем предсказание в csv файл\n",
        "write_file(prediction, 'prediction_CatBoostCV.csv')"
      ],
      "execution_count": null,
      "outputs": []
    }
  ]
}